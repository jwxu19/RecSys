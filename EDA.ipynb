{
  "nbformat": 4,
  "nbformat_minor": 0,
  "metadata": {
    "colab": {
      "name": "EDA.ipynb",
      "version": "0.3.2",
      "provenance": [],
      "include_colab_link": true
    },
    "kernelspec": {
      "name": "python3",
      "display_name": "Python 3"
    }
  },
  "cells": [
    {
      "cell_type": "markdown",
      "metadata": {
        "id": "view-in-github",
        "colab_type": "text"
      },
      "source": [
        "<a href=\"https://colab.research.google.com/github/jwxu19/project1/blob/master/EDA.ipynb\" target=\"_parent\"><img src=\"https://colab.research.google.com/assets/colab-badge.svg\" alt=\"Open In Colab\"/></a>"
      ]
    },
    {
      "cell_type": "code",
      "metadata": {
        "id": "txJTtmiRFEno",
        "colab_type": "code",
        "outputId": "ad9a1b5a-69a4-4ef5-de37-3fba6b63e5b8",
        "colab": {
          "base_uri": "https://localhost:8080/",
          "height": 221
        }
      },
      "source": [
        "!wget http://snap.stanford.edu/data/amazon/productGraph/categoryFiles/reviews_Movies_and_TV_5.json.gz\n",
        "!gzip -d reviews_Movies_and_TV_5.json.gz\n",
        "!ls"
      ],
      "execution_count": 0,
      "outputs": [
        {
          "output_type": "stream",
          "text": [
            "--2019-09-07 04:57:02--  http://snap.stanford.edu/data/amazon/productGraph/categoryFiles/reviews_Movies_and_TV_5.json.gz\n",
            "Resolving snap.stanford.edu (snap.stanford.edu)... 171.64.75.80\n",
            "Connecting to snap.stanford.edu (snap.stanford.edu)|171.64.75.80|:80... connected.\n",
            "HTTP request sent, awaiting response... 200 OK\n",
            "Length: 708988936 (676M) [application/x-gzip]\n",
            "Saving to: ‘reviews_Movies_and_TV_5.json.gz’\n",
            "\n",
            "reviews_Movies_and_ 100%[===================>] 676.14M  3.63MB/s    in 84s     \n",
            "\n",
            "2019-09-07 04:58:25 (8.07 MB/s) - ‘reviews_Movies_and_TV_5.json.gz’ saved [708988936/708988936]\n",
            "\n",
            "reviews_Movies_and_TV_5.json  sample_data\n"
          ],
          "name": "stdout"
        }
      ]
    },
    {
      "cell_type": "code",
      "metadata": {
        "id": "wEyh6pvRFSUD",
        "colab_type": "code",
        "colab": {}
      },
      "source": [
        "import json\n",
        "import numpy as np\n",
        "import pandas as pd\n",
        "from scipy import stats\n",
        "\n",
        "data=[]\n",
        "for line in open(\"reviews_Movies_and_TV_5.json\",\"r\"):\n",
        "  data.append(json.loads(line))\n",
        "\n",
        "data=pd.DataFrame.from_dict(data, orient=\"columns\")"
      ],
      "execution_count": 0,
      "outputs": []
    },
    {
      "cell_type": "code",
      "metadata": {
        "id": "GNwcjUFBGJu-",
        "colab_type": "code",
        "outputId": "8e941941-b0b2-4f02-adcb-ebfb808e47f8",
        "colab": {
          "base_uri": "https://localhost:8080/",
          "height": 289
        }
      },
      "source": [
        "data.head()"
      ],
      "execution_count": 0,
      "outputs": [
        {
          "output_type": "execute_result",
          "data": {
            "text/html": [
              "<div>\n",
              "<style scoped>\n",
              "    .dataframe tbody tr th:only-of-type {\n",
              "        vertical-align: middle;\n",
              "    }\n",
              "\n",
              "    .dataframe tbody tr th {\n",
              "        vertical-align: top;\n",
              "    }\n",
              "\n",
              "    .dataframe thead th {\n",
              "        text-align: right;\n",
              "    }\n",
              "</style>\n",
              "<table border=\"1\" class=\"dataframe\">\n",
              "  <thead>\n",
              "    <tr style=\"text-align: right;\">\n",
              "      <th></th>\n",
              "      <th>asin</th>\n",
              "      <th>helpful</th>\n",
              "      <th>overall</th>\n",
              "      <th>reviewText</th>\n",
              "      <th>reviewTime</th>\n",
              "      <th>reviewerID</th>\n",
              "      <th>reviewerName</th>\n",
              "      <th>summary</th>\n",
              "      <th>unixReviewTime</th>\n",
              "    </tr>\n",
              "  </thead>\n",
              "  <tbody>\n",
              "    <tr>\n",
              "      <th>0</th>\n",
              "      <td>0005019281</td>\n",
              "      <td>[0, 0]</td>\n",
              "      <td>4.0</td>\n",
              "      <td>This is a charming version of the classic Dick...</td>\n",
              "      <td>02 26, 2008</td>\n",
              "      <td>ADZPIG9QOCDG5</td>\n",
              "      <td>Alice L. Larson \"alice-loves-books\"</td>\n",
              "      <td>good version of a classic</td>\n",
              "      <td>1203984000</td>\n",
              "    </tr>\n",
              "    <tr>\n",
              "      <th>1</th>\n",
              "      <td>0005019281</td>\n",
              "      <td>[0, 0]</td>\n",
              "      <td>3.0</td>\n",
              "      <td>It was good but not as emotionally moving as t...</td>\n",
              "      <td>12 30, 2013</td>\n",
              "      <td>A35947ZP82G7JH</td>\n",
              "      <td>Amarah Strack</td>\n",
              "      <td>Good but not as moving</td>\n",
              "      <td>1388361600</td>\n",
              "    </tr>\n",
              "    <tr>\n",
              "      <th>2</th>\n",
              "      <td>0005019281</td>\n",
              "      <td>[0, 0]</td>\n",
              "      <td>3.0</td>\n",
              "      <td>Don't get me wrong, Winkler is a wonderful cha...</td>\n",
              "      <td>12 30, 2013</td>\n",
              "      <td>A3UORV8A9D5L2E</td>\n",
              "      <td>Amazon Customer</td>\n",
              "      <td>Winkler's Performance was ok at best!</td>\n",
              "      <td>1388361600</td>\n",
              "    </tr>\n",
              "    <tr>\n",
              "      <th>3</th>\n",
              "      <td>0005019281</td>\n",
              "      <td>[0, 0]</td>\n",
              "      <td>5.0</td>\n",
              "      <td>Henry Winkler is very good in this twist on th...</td>\n",
              "      <td>02 13, 2008</td>\n",
              "      <td>A1VKW06X1O2X7V</td>\n",
              "      <td>Amazon Customer \"Softmill\"</td>\n",
              "      <td>It's an enjoyable twist on the classic story</td>\n",
              "      <td>1202860800</td>\n",
              "    </tr>\n",
              "    <tr>\n",
              "      <th>4</th>\n",
              "      <td>0005019281</td>\n",
              "      <td>[0, 0]</td>\n",
              "      <td>4.0</td>\n",
              "      <td>This is one of the best Scrooge movies out.  H...</td>\n",
              "      <td>12 22, 2013</td>\n",
              "      <td>A3R27T4HADWFFJ</td>\n",
              "      <td>BABE</td>\n",
              "      <td>Best Scrooge yet</td>\n",
              "      <td>1387670400</td>\n",
              "    </tr>\n",
              "  </tbody>\n",
              "</table>\n",
              "</div>"
            ],
            "text/plain": [
              "         asin  ... unixReviewTime\n",
              "0  0005019281  ...     1203984000\n",
              "1  0005019281  ...     1388361600\n",
              "2  0005019281  ...     1388361600\n",
              "3  0005019281  ...     1202860800\n",
              "4  0005019281  ...     1387670400\n",
              "\n",
              "[5 rows x 9 columns]"
            ]
          },
          "metadata": {
            "tags": []
          },
          "execution_count": 3
        }
      ]
    },
    {
      "cell_type": "code",
      "metadata": {
        "id": "0KRNjqUAGTTF",
        "colab_type": "code",
        "outputId": "282613af-9604-4e24-e108-a36c5a418396",
        "colab": {
          "base_uri": "https://localhost:8080/",
          "height": 68
        }
      },
      "source": [
        "data.columns"
      ],
      "execution_count": 0,
      "outputs": [
        {
          "output_type": "execute_result",
          "data": {
            "text/plain": [
              "Index(['asin', 'helpful', 'overall', 'reviewText', 'reviewTime', 'reviewerID',\n",
              "       'reviewerName', 'summary', 'unixReviewTime'],\n",
              "      dtype='object')"
            ]
          },
          "metadata": {
            "tags": []
          },
          "execution_count": 4
        }
      ]
    },
    {
      "cell_type": "code",
      "metadata": {
        "id": "SAjGrQaRHZov",
        "colab_type": "code",
        "outputId": "aa7d64d9-5bc3-4b25-f0d4-bf5f981b32ca",
        "colab": {
          "base_uri": "https://localhost:8080/",
          "height": 34
        }
      },
      "source": [
        "data.shape"
      ],
      "execution_count": 0,
      "outputs": [
        {
          "output_type": "execute_result",
          "data": {
            "text/plain": [
              "(1697533, 9)"
            ]
          },
          "metadata": {
            "tags": []
          },
          "execution_count": 5
        }
      ]
    },
    {
      "cell_type": "code",
      "metadata": {
        "id": "Wq6TA5CzHd16",
        "colab_type": "code",
        "outputId": "e5092006-f4f3-4a4d-be0f-1e0f6afe6dbd",
        "colab": {
          "base_uri": "https://localhost:8080/",
          "height": 204
        }
      },
      "source": [
        "data.groupby(\"asin\")[\"reviewerID\"].count().reset_index().sort_values(\"reviewerID\", ascending=False).rename(columns={\"reviewerID\":\"# of review\"})[:5]"
      ],
      "execution_count": 127,
      "outputs": [
        {
          "output_type": "execute_result",
          "data": {
            "text/html": [
              "<div>\n",
              "<style scoped>\n",
              "    .dataframe tbody tr th:only-of-type {\n",
              "        vertical-align: middle;\n",
              "    }\n",
              "\n",
              "    .dataframe tbody tr th {\n",
              "        vertical-align: top;\n",
              "    }\n",
              "\n",
              "    .dataframe thead th {\n",
              "        text-align: right;\n",
              "    }\n",
              "</style>\n",
              "<table border=\"1\" class=\"dataframe\">\n",
              "  <thead>\n",
              "    <tr style=\"text-align: right;\">\n",
              "      <th></th>\n",
              "      <th>asin</th>\n",
              "      <th># of review</th>\n",
              "    </tr>\n",
              "  </thead>\n",
              "  <tbody>\n",
              "    <tr>\n",
              "      <th>40093</th>\n",
              "      <td>B003EYVXV4</td>\n",
              "      <td>2213</td>\n",
              "    </tr>\n",
              "    <tr>\n",
              "      <th>35929</th>\n",
              "      <td>B001KVZ6HK</td>\n",
              "      <td>2110</td>\n",
              "    </tr>\n",
              "    <tr>\n",
              "      <th>46908</th>\n",
              "      <td>B009934S5M</td>\n",
              "      <td>1974</td>\n",
              "    </tr>\n",
              "    <tr>\n",
              "      <th>43590</th>\n",
              "      <td>B0059XTU1S</td>\n",
              "      <td>1746</td>\n",
              "    </tr>\n",
              "    <tr>\n",
              "      <th>44156</th>\n",
              "      <td>B005LAIHXQ</td>\n",
              "      <td>1637</td>\n",
              "    </tr>\n",
              "  </tbody>\n",
              "</table>\n",
              "</div>"
            ],
            "text/plain": [
              "             asin  # of review\n",
              "40093  B003EYVXV4         2213\n",
              "35929  B001KVZ6HK         2110\n",
              "46908  B009934S5M         1974\n",
              "43590  B0059XTU1S         1746\n",
              "44156  B005LAIHXQ         1637"
            ]
          },
          "metadata": {
            "tags": []
          },
          "execution_count": 127
        }
      ]
    },
    {
      "cell_type": "code",
      "metadata": {
        "id": "vOM1fV_Ssank",
        "colab_type": "code",
        "colab": {
          "base_uri": "https://localhost:8080/",
          "height": 207
        },
        "outputId": "f992d4d9-667a-4c41-8b89-b27f0ce1f39b"
      },
      "source": [
        "n_review_per_movie=data.groupby(\"asin\")[\"reviewerID\"].count()\n",
        "n_review_per_movie.describe(), stats.describe(n_review_per_movie)"
      ],
      "execution_count": 185,
      "outputs": [
        {
          "output_type": "execute_result",
          "data": {
            "text/plain": [
              "(count    50052.000000\n",
              " mean        33.915388\n",
              " std         73.466260\n",
              " min          5.000000\n",
              " 25%          7.000000\n",
              " 50%         13.000000\n",
              " 75%         29.000000\n",
              " max       2213.000000\n",
              " Name: reviewerID, dtype: float64,\n",
              " DescribeResult(nobs=50052, minmax=(5, 2213), mean=33.91538799648366, variance=5397.291296241137, skewness=8.188931198385541, kurtosis=115.8915129928746))"
            ]
          },
          "metadata": {
            "tags": []
          },
          "execution_count": 185
        }
      ]
    },
    {
      "cell_type": "code",
      "metadata": {
        "id": "WkpHZkzPKO7e",
        "colab_type": "code",
        "outputId": "3e433cc0-3d4a-4752-b759-c2d96efa5919",
        "colab": {
          "base_uri": "https://localhost:8080/",
          "height": 699
        }
      },
      "source": [
        "from matplotlib import pyplot as plt\n",
        "\n",
        "\n",
        "fig=plt.figure(figsize=(12,10))\n",
        "fig.suptitle(\"Review Frequency Per Movie Distribution\", fontsize=30)\n",
        "\n",
        "ax1=fig.add_subplot(2,2,1)\n",
        "ax2=fig.add_subplot(2,2,2)\n",
        "ax3=fig.add_subplot(2,2,3)\n",
        "\n",
        "ax1.hist(n_review_per_movie)\n",
        "ax1.set_xlabel(\"# of review per movie\", fontsize=15)\n",
        "ax1.set_ylabel(\"Count\")\n",
        "\n",
        "\n",
        "\n",
        "\n",
        "ax2.hist(np.log(n_review_per_movie+1))\n",
        "ax2.set_xlabel(\"log(# of review per movie + 1)\", fontsize=15)\n",
        "ax2.set_ylabel(\"Count\")\n",
        "\n",
        "ax3.hist(n_review_per_movie, bins=range(min(n_review_per_movie), 100, 5))\n",
        "ax3.set_xlabel(\"# of review per movie with upper 100\", fontsize=15)\n",
        "ax3.set_ylabel(\"Count\")\n"
      ],
      "execution_count": 183,
      "outputs": [
        {
          "output_type": "execute_result",
          "data": {
            "text/plain": [
              "Text(0, 0.5, 'Count')"
            ]
          },
          "metadata": {
            "tags": []
          },
          "execution_count": 183
        },
        {
          "output_type": "display_data",
          "data": {
            "image/png": "[encoded data removed]",
            "text/plain": [
              "<Figure size 864x720 with 3 Axes>"
            ]
          },
          "metadata": {
            "tags": []
          }
        }
      ]
    },
    {
      "cell_type": "code",
      "metadata": {
        "id": "da9MWqMZZSyD",
        "colab_type": "code",
        "outputId": "785cf895-db4b-4205-c2c6-abe904888acd",
        "colab": {
          "base_uri": "https://localhost:8080/",
          "height": 204
        }
      },
      "source": [
        "data.groupby(\"reviewerID\")[\"overall\"].count().reset_index().sort_values(\"overall\", ascending=False).rename(columns={\"overall\":\"# of review\"})[:5]"
      ],
      "execution_count": 167,
      "outputs": [
        {
          "output_type": "execute_result",
          "data": {
            "text/html": [
              "<div>\n",
              "<style scoped>\n",
              "    .dataframe tbody tr th:only-of-type {\n",
              "        vertical-align: middle;\n",
              "    }\n",
              "\n",
              "    .dataframe tbody tr th {\n",
              "        vertical-align: top;\n",
              "    }\n",
              "\n",
              "    .dataframe thead th {\n",
              "        text-align: right;\n",
              "    }\n",
              "</style>\n",
              "<table border=\"1\" class=\"dataframe\">\n",
              "  <thead>\n",
              "    <tr style=\"text-align: right;\">\n",
              "      <th></th>\n",
              "      <th>reviewerID</th>\n",
              "      <th># of review</th>\n",
              "    </tr>\n",
              "  </thead>\n",
              "  <tbody>\n",
              "    <tr>\n",
              "      <th>85592</th>\n",
              "      <td>A3LZGLA88K0LA0</td>\n",
              "      <td>2368</td>\n",
              "    </tr>\n",
              "    <tr>\n",
              "      <th>5830</th>\n",
              "      <td>A16CZRQL23NOIW</td>\n",
              "      <td>2333</td>\n",
              "    </tr>\n",
              "    <tr>\n",
              "      <th>112512</th>\n",
              "      <td>ANCOMAI0I7LVG</td>\n",
              "      <td>2322</td>\n",
              "    </tr>\n",
              "    <tr>\n",
              "      <th>101825</th>\n",
              "      <td>ABO2ZI2Y5DQ9T</td>\n",
              "      <td>2301</td>\n",
              "    </tr>\n",
              "    <tr>\n",
              "      <th>67676</th>\n",
              "      <td>A328S9RN3U5M68</td>\n",
              "      <td>2267</td>\n",
              "    </tr>\n",
              "  </tbody>\n",
              "</table>\n",
              "</div>"
            ],
            "text/plain": [
              "            reviewerID  # of review\n",
              "85592   A3LZGLA88K0LA0         2368\n",
              "5830    A16CZRQL23NOIW         2333\n",
              "112512   ANCOMAI0I7LVG         2322\n",
              "101825   ABO2ZI2Y5DQ9T         2301\n",
              "67676   A328S9RN3U5M68         2267"
            ]
          },
          "metadata": {
            "tags": []
          },
          "execution_count": 167
        }
      ]
    },
    {
      "cell_type": "code",
      "metadata": {
        "id": "wWxT1ZYl22X9",
        "colab_type": "code",
        "colab": {
          "base_uri": "https://localhost:8080/",
          "height": 207
        },
        "outputId": "6f908b0b-236c-49dd-a412-208fd09bb120"
      },
      "source": [
        "n_review_per_user=data.groupby(\"reviewerID\")[\"overall\"].count()\n",
        "n_review_per_user.describe(), stats.describe(n_review_per_user)"
      ],
      "execution_count": 186,
      "outputs": [
        {
          "output_type": "execute_result",
          "data": {
            "text/plain": [
              "(count    123960.000000\n",
              " mean         13.694200\n",
              " std          39.750989\n",
              " min           5.000000\n",
              " 25%           5.000000\n",
              " 50%           7.000000\n",
              " 75%          11.000000\n",
              " max        2368.000000\n",
              " Name: overall, dtype: float64,\n",
              " DescribeResult(nobs=123960, minmax=(5, 2368), mean=13.694199741852211, variance=1580.14108721121, skewness=24.728837022189687, kurtosis=971.1730805804166))"
            ]
          },
          "metadata": {
            "tags": []
          },
          "execution_count": 186
        }
      ]
    },
    {
      "cell_type": "code",
      "metadata": {
        "id": "Zzkn9Xa6cjvn",
        "colab_type": "code",
        "colab": {
          "base_uri": "https://localhost:8080/",
          "height": 699
        },
        "outputId": "ce05c204-ae95-4d4d-fdbc-d8ba55ca92ba"
      },
      "source": [
        "fig=plt.figure(figsize=(12,10))\n",
        "fig.suptitle(\"Review Frequency Per User Distribution\", fontsize=30)\n",
        "\n",
        "ax1=fig.add_subplot(2,2,1)\n",
        "ax2=fig.add_subplot(2,2,2)\n",
        "ax3=fig.add_subplot(2,2,3)\n",
        "\n",
        "ax1.hist(n_review_per_user)\n",
        "ax1.set_xlabel(\"# of review per user\", fontsize=15)\n",
        "ax1.set_ylabel(\"Count\")\n",
        "\n",
        "\n",
        "ax2.hist(np.log(n_review_per_user+1))\n",
        "ax2.set_xlabel(\"log(# of review per user + 1)\", fontsize=15)\n",
        "ax2.set_ylabel(\"Count\")\n",
        "\n",
        "ax3.hist(n_review_per_user, bins=range(min(n_review_per_movie), 50, 5))\n",
        "ax3.set_xlabel(\"# of review per user with upper 50\", fontsize=15)\n",
        "ax3.set_ylabel(\"Count\")\n"
      ],
      "execution_count": 187,
      "outputs": [
        {
          "output_type": "execute_result",
          "data": {
            "text/plain": [
              "Text(0, 0.5, 'Count')"
            ]
          },
          "metadata": {
            "tags": []
          },
          "execution_count": 187
        },
        {
          "output_type": "display_data",
          "data": {
            "image/png": "[encoded data removed]",
            "text/plain": [
              "<Figure size 864x720 with 3 Axes>"
            ]
          },
          "metadata": {
            "tags": []
          }
        }
      ]
    },
    {
      "cell_type": "code",
      "metadata": {
        "id": "eyjaoSZEfnDh",
        "colab_type": "code",
        "colab": {
          "base_uri": "https://localhost:8080/",
          "height": 34
        },
        "outputId": "a3aede59-b2c9-4ea7-de5f-646cb3d7d106"
      },
      "source": [
        "min_n_review_per_movie, min_n_review_per_user=20, 15\n",
        "\n",
        "item_ls_filter=data[\"asin\"].value_counts()>min_n_review_per_movie\n",
        "user_ls_filter=data[\"reviewerID\"].value_counts()>min_n_review_per_user\n",
        "\n",
        "item_ls_after_filter=item_ls_filter[item_ls_filter].index.tolist()\n",
        "user_ls_after_filter=user_ls_filter[user_ls_filter].index.tolist()\n",
        "\n",
        "data_after_filter=data[(data[\"asin\"].isin(item_ls_after_filter)) & (data[\"reviewerID\"].isin(user_ls_after_filter))]\n",
        "\n",
        "data_after_filter.shape"
      ],
      "execution_count": 188,
      "outputs": [
        {
          "output_type": "execute_result",
          "data": {
            "text/plain": [
              "(743612, 9)"
            ]
          },
          "metadata": {
            "tags": []
          },
          "execution_count": 188
        }
      ]
    },
    {
      "cell_type": "code",
      "metadata": {
        "id": "JKjvVpPY3IVw",
        "colab_type": "code",
        "colab": {
          "base_uri": "https://localhost:8080/",
          "height": 139
        },
        "outputId": "a2194725-8fd5-431f-909f-247c86285698"
      },
      "source": [
        "import os\n",
        "from google.colab import drive\n",
        "drive.mount('/content/drive')\n",
        "path=\"/content/drive/My Drive/RecSys\"\n",
        "os.chdir(path)\n",
        "os.listdir(path)"
      ],
      "execution_count": 190,
      "outputs": [
        {
          "output_type": "stream",
          "text": [
            "Go to this URL in a browser: https://accounts.google.com/o/oauth2/auth?client_id=947318989803-6bn6qk8qdgf4n4g3pfee6491hc0brc4i.apps.googleusercontent.com&redirect_uri=urn%3Aietf%3Awg%3Aoauth%3A2.0%3Aoob&scope=email%20https%3A%2F%2Fwww.googleapis.com%2Fauth%2Fdocs.test%20https%3A%2F%2Fwww.googleapis.com%2Fauth%2Fdrive%20https%3A%2F%2Fwww.googleapis.com%2Fauth%2Fdrive.photos.readonly%20https%3A%2F%2Fwww.googleapis.com%2Fauth%2Fpeopleapi.readonly&response_type=code\n",
            "\n",
            "Enter your authorization code:\n",
            "··········\n",
            "Mounted at /content/drive\n"
          ],
          "name": "stdout"
        },
        {
          "output_type": "execute_result",
          "data": {
            "text/plain": [
              "['user_ls', 'item_ls', 'rating_ls']"
            ]
          },
          "metadata": {
            "tags": []
          },
          "execution_count": 190
        }
      ]
    },
    {
      "cell_type": "code",
      "metadata": {
        "id": "fwnIxep4oi4j",
        "colab_type": "code",
        "colab": {}
      },
      "source": [
        "import pickle\n",
        "outfile=open(\"data_after_filter\",\"wb\")\n",
        "pickle.dump(data_after_filter,outfile)\n",
        "outfile.close()\n"
      ],
      "execution_count": 0,
      "outputs": []
    },
    {
      "cell_type": "code",
      "metadata": {
        "id": "d94SM8j93-yh",
        "colab_type": "code",
        "colab": {
          "base_uri": "https://localhost:8080/",
          "height": 34
        },
        "outputId": "f0ee0dc6-baa0-4cc8-b050-2c39f84e8e43"
      },
      "source": [
        "!ls"
      ],
      "execution_count": 192,
      "outputs": [
        {
          "output_type": "stream",
          "text": [
            "data_after_filter  item_ls  rating_ls  user_ls\n"
          ],
          "name": "stdout"
        }
      ]
    }
  ]
}