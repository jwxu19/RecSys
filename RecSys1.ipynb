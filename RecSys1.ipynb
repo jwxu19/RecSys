{
  "nbformat": 4,
  "nbformat_minor": 0,
  "metadata": {
    "colab": {
      "name": "RecSys1.ipynb",
      "version": "0.3.2",
      "provenance": [],
      "machine_shape": "hm",
      "include_colab_link": true
    },
    "kernelspec": {
      "name": "python3",
      "display_name": "Python 3"
    }
  },
  "cells": [
    {
      "cell_type": "markdown",
      "metadata": {
        "id": "view-in-github",
        "colab_type": "text"
      },
      "source": [
        "<a href=\"https://colab.research.google.com/github/jwxu19/project1/blob/master/RecSys1.ipynb\" target=\"_parent\"><img src=\"https://colab.research.google.com/assets/colab-badge.svg\" alt=\"Open In Colab\"/></a>"
      ]
    },
    {
      "cell_type": "code",
      "metadata": {
        "id": "QRlkKQGwRs7x",
        "colab_type": "code",
        "outputId": "54036fd1-e950-48fc-d040-81a4a2292e95",
        "colab": {
          "base_uri": "https://localhost:8080/",
          "height": 122
        }
      },
      "source": [
        "!pip install scikit-surprise"
      ],
      "execution_count": 0,
      "outputs": [
        {
          "output_type": "stream",
          "text": [
            "Requirement already satisfied: scikit-surprise in /usr/local/lib/python3.6/dist-packages (1.0.6)\n",
            "Requirement already satisfied: six>=1.10.0 in /usr/local/lib/python3.6/dist-packages (from scikit-surprise) (1.12.0)\n",
            "Requirement already satisfied: scipy>=1.0.0 in /usr/local/lib/python3.6/dist-packages (from scikit-surprise) (1.3.1)\n",
            "Requirement already satisfied: numpy>=1.11.2 in /usr/local/lib/python3.6/dist-packages (from scikit-surprise) (1.16.5)\n",
            "Requirement already satisfied: joblib>=0.11 in /usr/local/lib/python3.6/dist-packages (from scikit-surprise) (0.13.2)\n"
          ],
          "name": "stdout"
        }
      ]
    },
    {
      "cell_type": "code",
      "metadata": {
        "id": "3yS0KAzTRwn5",
        "colab_type": "code",
        "outputId": "f8e49a5c-2137-4c76-abbe-f8d1a9e947cc",
        "colab": {
          "base_uri": "https://localhost:8080/",
          "height": 71
        }
      },
      "source": [
        "import os\n",
        "from google.colab import drive\n",
        "drive.mount('/content/drive')\n",
        "path=\"/content/drive/My Drive/RecSys\"\n",
        "os.chdir(path)\n",
        "os.listdir(path)"
      ],
      "execution_count": 0,
      "outputs": [
        {
          "output_type": "stream",
          "text": [
            "Drive already mounted at /content/drive; to attempt to forcibly remount, call drive.mount(\"/content/drive\", force_remount=True).\n"
          ],
          "name": "stdout"
        },
        {
          "output_type": "execute_result",
          "data": {
            "text/plain": [
              "['user_ls', 'item_ls', 'rating_ls', 'data_after_filter']"
            ]
          },
          "metadata": {
            "tags": []
          },
          "execution_count": 31
        }
      ]
    },
    {
      "cell_type": "code",
      "metadata": {
        "id": "C2-2A6LSRxMy",
        "colab_type": "code",
        "colab": {}
      },
      "source": [
        "#load data\n",
        "import pickle\n",
        "\n",
        "file=open(\"data_after_filter\",\"rb\")\n",
        "data=pickle.load(file)\n",
        "file.close()\n",
        "\n",
        "\n",
        "data=data[['reviewerID', 'asin', 'overall']]\n"
      ],
      "execution_count": 0,
      "outputs": []
    },
    {
      "cell_type": "code",
      "metadata": {
        "id": "VrjHgfzdR3-y",
        "colab_type": "code",
        "colab": {}
      },
      "source": [
        "from surprise import *\n",
        "import numpy as np\n"
      ],
      "execution_count": 0,
      "outputs": []
    },
    {
      "cell_type": "code",
      "metadata": {
        "id": "EuVqAXBrR6MX",
        "colab_type": "code",
        "colab": {}
      },
      "source": [
        "reader= Reader(rating_scale=(1, 5))\n",
        "data = Dataset.load_from_df(data, reader)\n"
      ],
      "execution_count": 0,
      "outputs": []
    },
    {
      "cell_type": "code",
      "metadata": {
        "id": "KiCSHZu_6OU6",
        "colab_type": "code",
        "colab": {}
      },
      "source": [
        "#\n",
        "sim_options={\"name\":[\"cosine\", \"msd\", \"pearson\"],\n",
        "            \"user_based\":[True, False]} #user-based, item-based \n",
        "param_grid = {\"sim_options\": sim_options}\n",
        "\n"
      ],
      "execution_count": 0,
      "outputs": []
    },
    {
      "cell_type": "code",
      "metadata": {
        "id": "0RQLkbOxTxTJ",
        "colab_type": "code",
        "colab": {}
      },
      "source": [
        "gs = model_selection.GridSearchCV(KNNWithMeans, param_grid, measures=[\"rmse\"], cv=5)\n"
      ],
      "execution_count": 0,
      "outputs": []
    },
    {
      "cell_type": "code",
      "metadata": {
        "id": "PXqQns5YaCMU",
        "colab_type": "code",
        "outputId": "ffcc1b27-c11d-438b-ad67-69164ca071d6",
        "colab": {
          "base_uri": "https://localhost:8080/",
          "height": 1000
        }
      },
      "source": [
        "gs.fit(data)"
      ],
      "execution_count": 45,
      "outputs": [
        {
          "output_type": "stream",
          "text": [
            "Computing the cosine similarity matrix...\n",
            "Done computing similarity matrix.\n",
            "Computing the cosine similarity matrix...\n",
            "Done computing similarity matrix.\n",
            "Computing the cosine similarity matrix...\n",
            "Done computing similarity matrix.\n",
            "Computing the cosine similarity matrix...\n",
            "Done computing similarity matrix.\n",
            "Computing the cosine similarity matrix...\n",
            "Done computing similarity matrix.\n",
            "Computing the cosine similarity matrix...\n",
            "Done computing similarity matrix.\n",
            "Computing the cosine similarity matrix...\n",
            "Done computing similarity matrix.\n",
            "Computing the cosine similarity matrix...\n",
            "Done computing similarity matrix.\n",
            "Computing the cosine similarity matrix...\n",
            "Done computing similarity matrix.\n",
            "Computing the cosine similarity matrix...\n",
            "Done computing similarity matrix.\n",
            "Computing the msd similarity matrix...\n",
            "Done computing similarity matrix.\n",
            "Computing the msd similarity matrix...\n",
            "Done computing similarity matrix.\n",
            "Computing the msd similarity matrix...\n",
            "Done computing similarity matrix.\n",
            "Computing the msd similarity matrix...\n",
            "Done computing similarity matrix.\n",
            "Computing the msd similarity matrix...\n",
            "Done computing similarity matrix.\n",
            "Computing the msd similarity matrix...\n",
            "Done computing similarity matrix.\n",
            "Computing the msd similarity matrix...\n",
            "Done computing similarity matrix.\n",
            "Computing the msd similarity matrix...\n",
            "Done computing similarity matrix.\n",
            "Computing the msd similarity matrix...\n",
            "Done computing similarity matrix.\n",
            "Computing the msd similarity matrix...\n",
            "Done computing similarity matrix.\n",
            "Computing the pearson similarity matrix...\n",
            "Done computing similarity matrix.\n",
            "Computing the pearson similarity matrix...\n",
            "Done computing similarity matrix.\n",
            "Computing the pearson similarity matrix...\n",
            "Done computing similarity matrix.\n",
            "Computing the pearson similarity matrix...\n",
            "Done computing similarity matrix.\n",
            "Computing the pearson similarity matrix...\n",
            "Done computing similarity matrix.\n",
            "Computing the pearson similarity matrix...\n",
            "Done computing similarity matrix.\n",
            "Computing the pearson similarity matrix...\n",
            "Done computing similarity matrix.\n",
            "Computing the pearson similarity matrix...\n",
            "Done computing similarity matrix.\n",
            "Computing the pearson similarity matrix...\n",
            "Done computing similarity matrix.\n",
            "Computing the pearson similarity matrix...\n",
            "Done computing similarity matrix.\n"
          ],
          "name": "stdout"
        }
      ]
    },
    {
      "cell_type": "code",
      "metadata": {
        "id": "79nAe-N8-ZvV",
        "colab_type": "code",
        "colab": {
          "base_uri": "https://localhost:8080/",
          "height": 238
        },
        "outputId": "14c78bbf-9595-4e56-9c53-5596650e8043"
      },
      "source": [
        "print(gs.cv_results)"
      ],
      "execution_count": 46,
      "outputs": [
        {
          "output_type": "stream",
          "text": [
            "{'split0_test_rmse': array([0.99910452, 0.99249011, 0.99897569, 0.99207939, 1.03747689,\n",
            "       1.03921208]), 'split1_test_rmse': array([1.00015727, 0.99175234, 1.0000414 , 0.9902023 , 1.03714475,\n",
            "       1.03705114]), 'split2_test_rmse': array([1.00395267, 0.99704175, 1.00415073, 0.99527508, 1.04105724,\n",
            "       1.04042448]), 'split3_test_rmse': array([1.00019907, 0.99404549, 1.00082926, 0.99291324, 1.03862375,\n",
            "       1.03889646]), 'split4_test_rmse': array([1.00310591, 0.99416815, 1.00360846, 0.99269877, 1.04040484,\n",
            "       1.03779507]), 'mean_test_rmse': array([1.00130389, 0.99389957, 1.00152111, 0.99263375, 1.03894149,\n",
            "       1.03867585]), 'std_test_rmse': array([0.00187808, 0.0018201 , 0.00202085, 0.00162962, 0.00155513,\n",
            "       0.001167  ]), 'rank_test_rmse': array([3, 2, 4, 1, 6, 5]), 'mean_fit_time': array([42.60236187, 54.11314058, 19.36774807, 19.97898293, 59.45747452,\n",
            "       69.90392098]), 'std_fit_time': array([0.82000667, 0.5279629 , 0.85415336, 0.10966413, 1.87806727,\n",
            "       0.58258811]), 'mean_test_time': array([22.37863884, 30.46388874, 22.4106822 , 31.13648038, 20.52145944,\n",
            "       29.56643629]), 'std_test_time': array([0.43933245, 0.18838757, 0.48101804, 0.52241418, 0.40435263,\n",
            "       0.29219808]), 'params': [{'sim_options': {'name': 'cosine', 'user_based': True}}, {'sim_options': {'name': 'cosine', 'user_based': False}}, {'sim_options': {'name': 'msd', 'user_based': True}}, {'sim_options': {'name': 'msd', 'user_based': False}}, {'sim_options': {'name': 'pearson', 'user_based': True}}, {'sim_options': {'name': 'pearson', 'user_based': False}}], 'param_sim_options': [{'name': 'cosine', 'user_based': True}, {'name': 'cosine', 'user_based': False}, {'name': 'msd', 'user_based': True}, {'name': 'msd', 'user_based': False}, {'name': 'pearson', 'user_based': True}, {'name': 'pearson', 'user_based': False}]}\n"
          ],
          "name": "stdout"
        }
      ]
    },
    {
      "cell_type": "code",
      "metadata": {
        "id": "BanTYzyhs-ET",
        "colab_type": "code",
        "colab": {
          "base_uri": "https://localhost:8080/",
          "height": 67
        },
        "outputId": "7f9c8eab-6261-4dba-cd65-9937ead9d570"
      },
      "source": [
        "print(gs.best_estimator)\n",
        "print(gs.best_score)\n",
        "print(gs.best_params)"
      ],
      "execution_count": 47,
      "outputs": [
        {
          "output_type": "stream",
          "text": [
            "{'rmse': <surprise.prediction_algorithms.knns.KNNWithMeans object at 0x7fa2fb57c4a8>}\n",
            "{'rmse': 0.9926337536048445}\n",
            "{'rmse': {'sim_options': {'name': 'msd', 'user_based': False}}}\n"
          ],
          "name": "stdout"
        }
      ]
    },
    {
      "cell_type": "code",
      "metadata": {
        "id": "phSplNXYWCd9",
        "colab_type": "code",
        "colab": {}
      },
      "source": [
        ""
      ],
      "execution_count": 0,
      "outputs": []
    }
  ]
}